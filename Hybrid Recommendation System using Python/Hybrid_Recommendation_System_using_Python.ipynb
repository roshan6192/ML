{
  "nbformat": 4,
  "nbformat_minor": 0,
  "metadata": {
    "colab": {
      "provenance": []
    },
    "kernelspec": {
      "name": "python3",
      "display_name": "Python 3"
    },
    "language_info": {
      "name": "python"
    }
  },
  "cells": [
    {
      "cell_type": "code",
      "execution_count": 1,
      "metadata": {
        "colab": {
          "base_uri": "https://localhost:8080/"
        },
        "id": "zV7t9KX397-j",
        "outputId": "8a364c72-ba31-4fe1-cfa2-c6a804267985"
      },
      "outputs": [
        {
          "output_type": "stream",
          "name": "stdout",
          "text": [
            "   User ID  Product ID Product Name   Brand         Category  Price    Rating  \\\n",
            "0       19           1        Dress  Adidas    Men's Fashion     40  1.043159   \n",
            "1       97           2        Shoes     H&M  Women's Fashion     82  4.026416   \n",
            "2       25           3        Dress  Adidas  Women's Fashion     44  3.337938   \n",
            "3       57           4        Shoes    Zara    Men's Fashion     23  1.049523   \n",
            "4       79           5      T-shirt  Adidas    Men's Fashion     79  4.302773   \n",
            "\n",
            "    Color Size  \n",
            "0   Black   XL  \n",
            "1   Black    L  \n",
            "2  Yellow   XL  \n",
            "3   White    S  \n",
            "4   Black    M  \n"
          ]
        }
      ],
      "source": [
        "import pandas as pd\n",
        "data = pd.read_csv(\"/content/drive/MyDrive/DATASETS/fashion_products.csv\")\n",
        "print(data.head())"
      ]
    },
    {
      "cell_type": "code",
      "source": [
        "#!pip install surprise"
      ],
      "metadata": {
        "colab": {
          "base_uri": "https://localhost:8080/"
        },
        "id": "0rHlfySt-VuH",
        "outputId": "4a716c80-f2c2-40e5-9183-81f81b52f46e"
      },
      "execution_count": 3,
      "outputs": [
        {
          "output_type": "stream",
          "name": "stdout",
          "text": [
            "Collecting surprise\n",
            "  Downloading surprise-0.1-py2.py3-none-any.whl.metadata (327 bytes)\n",
            "Collecting scikit-surprise (from surprise)\n",
            "  Downloading scikit_surprise-1.1.4.tar.gz (154 kB)\n",
            "\u001b[2K     \u001b[90m━━━━━━━━━━━━━━━━━━━━━━━━━━━━━━━━━━━━━━━━\u001b[0m \u001b[32m154.4/154.4 kB\u001b[0m \u001b[31m2.2 MB/s\u001b[0m eta \u001b[36m0:00:00\u001b[0m\n",
            "\u001b[?25h  Installing build dependencies ... \u001b[?25l\u001b[?25hdone\n",
            "  Getting requirements to build wheel ... \u001b[?25l\u001b[?25hdone\n",
            "  Preparing metadata (pyproject.toml) ... \u001b[?25l\u001b[?25hdone\n",
            "Requirement already satisfied: joblib>=1.2.0 in /usr/local/lib/python3.10/dist-packages (from scikit-surprise->surprise) (1.4.2)\n",
            "Requirement already satisfied: numpy>=1.19.5 in /usr/local/lib/python3.10/dist-packages (from scikit-surprise->surprise) (1.26.4)\n",
            "Requirement already satisfied: scipy>=1.6.0 in /usr/local/lib/python3.10/dist-packages (from scikit-surprise->surprise) (1.13.1)\n",
            "Downloading surprise-0.1-py2.py3-none-any.whl (1.8 kB)\n",
            "Building wheels for collected packages: scikit-surprise\n",
            "  Building wheel for scikit-surprise (pyproject.toml) ... \u001b[?25l\u001b[?25hdone\n",
            "  Created wheel for scikit-surprise: filename=scikit_surprise-1.1.4-cp310-cp310-linux_x86_64.whl size=2357288 sha256=d61d505dee5296d3d937d2d066f74f8e5d600a44aef3dca1f8d276f2e696f1b7\n",
            "  Stored in directory: /root/.cache/pip/wheels/4b/3f/df/6acbf0a40397d9bf3ff97f582cc22fb9ce66adde75bc71fd54\n",
            "Successfully built scikit-surprise\n",
            "Installing collected packages: scikit-surprise, surprise\n",
            "Successfully installed scikit-surprise-1.1.4 surprise-0.1\n"
          ]
        }
      ]
    },
    {
      "cell_type": "code",
      "source": [
        "from surprise import Dataset, Reader, SVD\n",
        "from sklearn.feature_extraction.text import TfidfVectorizer\n",
        "from sklearn.metrics.pairwise import linear_kernel"
      ],
      "metadata": {
        "id": "dzdEyxu1-QTd"
      },
      "execution_count": 4,
      "outputs": []
    },
    {
      "cell_type": "code",
      "source": [
        "content_df = data[['Product ID', 'Product Name', 'Brand',\n",
        "                   'Category', 'Color', 'Size']]\n",
        "content_df['Content'] = content_df.apply(lambda row: ' '.join(row.dropna().astype(str)), axis=1)\n",
        "\n",
        "# Use TF-IDF vectorizer to convert content into a matrix of TF-IDF features\n",
        "tfidf_vectorizer = TfidfVectorizer()\n",
        "content_matrix = tfidf_vectorizer.fit_transform(content_df['Content'])\n",
        "\n",
        "content_similarity = linear_kernel(content_matrix, content_matrix)\n",
        "\n",
        "reader = Reader(rating_scale=(1, 5))\n",
        "data = Dataset.load_from_df(data[['User ID',\n",
        "                                  'Product ID',\n",
        "                                  'Rating']], reader)\n",
        "\n",
        "def get_content_based_recommendations(product_id, top_n):\n",
        "    index = content_df[content_df['Product ID'] == product_id].index[0]\n",
        "    similarity_scores = content_similarity[index]\n",
        "    similar_indices = similarity_scores.argsort()[::-1][1:top_n + 1]\n",
        "    recommendations = content_df.loc[similar_indices, 'Product ID'].values\n",
        "    return recommendations"
      ],
      "metadata": {
        "colab": {
          "base_uri": "https://localhost:8080/"
        },
        "id": "pGE58Ruk-Ud3",
        "outputId": "69cfdd90-cdd9-4475-8be4-186eb67ca747"
      },
      "execution_count": 5,
      "outputs": [
        {
          "output_type": "stream",
          "name": "stderr",
          "text": [
            "<ipython-input-5-8b9183f797f5>:3: SettingWithCopyWarning: \n",
            "A value is trying to be set on a copy of a slice from a DataFrame.\n",
            "Try using .loc[row_indexer,col_indexer] = value instead\n",
            "\n",
            "See the caveats in the documentation: https://pandas.pydata.org/pandas-docs/stable/user_guide/indexing.html#returning-a-view-versus-a-copy\n",
            "  content_df['Content'] = content_df.apply(lambda row: ' '.join(row.dropna().astype(str)), axis=1)\n"
          ]
        }
      ]
    },
    {
      "cell_type": "code",
      "source": [
        "algo = SVD()\n",
        "trainset = data.build_full_trainset()\n",
        "algo.fit(trainset)\n",
        "\n",
        "def get_collaborative_filtering_recommendations(user_id, top_n):\n",
        "    testset = trainset.build_anti_testset()\n",
        "    testset = filter(lambda x: x[0] == user_id, testset)\n",
        "    predictions = algo.test(testset)\n",
        "    predictions.sort(key=lambda x: x.est, reverse=True)\n",
        "    recommendations = [prediction.iid for prediction in predictions[:top_n]]\n",
        "    return recommendations"
      ],
      "metadata": {
        "id": "ghp83fDA_Cy9"
      },
      "execution_count": 6,
      "outputs": []
    },
    {
      "cell_type": "code",
      "source": [
        "def get_hybrid_recommendations(user_id, product_id, top_n):\n",
        "    content_based_recommendations = get_content_based_recommendations(product_id, top_n)\n",
        "    collaborative_filtering_recommendations = get_collaborative_filtering_recommendations(user_id, top_n)\n",
        "    hybrid_recommendations = list(set(content_based_recommendations + collaborative_filtering_recommendations))\n",
        "    return hybrid_recommendations[:top_n]"
      ],
      "metadata": {
        "id": "G8gYDSWN_fsB"
      },
      "execution_count": 7,
      "outputs": []
    },
    {
      "cell_type": "code",
      "source": [
        "user_id = int(input(\"Enter the User ID: \"))\n",
        "product_id = int(input(\"Enter the Product ID: \"))\n",
        "top_n = 10\n",
        "recommendations = get_hybrid_recommendations(user_id, product_id, top_n)\n",
        "\n",
        "print(f\"Hybrid Recommendations for User {user_id} based on Product {product_id}:\")\n",
        "for i, recommendation in enumerate(recommendations):\n",
        "    print(f\"{i + 1}. Product ID: {recommendation}\")\n",
        "    print(f\"{i + 1}. Product ID: {recommendation}\")"
      ],
      "metadata": {
        "colab": {
          "base_uri": "https://localhost:8080/"
        },
        "id": "DZ08-wcw_rJ1",
        "outputId": "614139d9-6569-491f-ab61-d7d6d557a6f3"
      },
      "execution_count": 10,
      "outputs": [
        {
          "output_type": "stream",
          "name": "stdout",
          "text": [
            "Enter the User ID: 25\n",
            "Enter the Product ID: 3\n",
            "Hybrid Recommendations for User 25 based on Product 3:\n",
            "1. Product ID: 1441\n",
            "1. Product ID: 1441\n",
            "2. Product ID: 419\n",
            "2. Product ID: 419\n",
            "3. Product ID: 452\n",
            "3. Product ID: 452\n",
            "4. Product ID: 712\n",
            "4. Product ID: 712\n",
            "5. Product ID: 491\n",
            "5. Product ID: 491\n",
            "6. Product ID: 780\n",
            "6. Product ID: 780\n",
            "7. Product ID: 703\n",
            "7. Product ID: 703\n",
            "8. Product ID: 596\n",
            "8. Product ID: 596\n",
            "9. Product ID: 830\n",
            "9. Product ID: 830\n",
            "10. Product ID: 1343\n",
            "10. Product ID: 1343\n"
          ]
        }
      ]
    },
    {
      "cell_type": "code",
      "source": [],
      "metadata": {
        "id": "DdRI1E2J_ueD"
      },
      "execution_count": null,
      "outputs": []
    }
  ]
}