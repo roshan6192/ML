{
  "nbformat": 4,
  "nbformat_minor": 0,
  "metadata": {
    "colab": {
      "provenance": []
    },
    "kernelspec": {
      "name": "python3",
      "display_name": "Python 3"
    },
    "language_info": {
      "name": "python"
    }
  },
  "cells": [
    {
      "cell_type": "code",
      "execution_count": 1,
      "metadata": {
        "id": "GgOuDh_3ccPG"
      },
      "outputs": [],
      "source": [
        "import pandas as pd\n",
        "import numpy as np\n",
        "from sklearn.preprocessing import StandardScaler\n",
        "\n",
        "def data_preprocessing(data):\n",
        "  #Identify numeric and categorical features\n",
        "    numeric_features = data.select_dtypes(include=['float', 'int']).columns\n",
        "    categorical_features = data.select_dtypes(include=['object']).columns\n",
        "\n",
        "    #Handle missing values in numeric features\n",
        "    data[numeric_features] = data[numeric_features].fillna(data[numeric_features].mean())\n",
        "\n",
        "    #Detect and handle outliers in numeric features using IQR\n",
        "    for feature in numeric_features:\n",
        "        Q1 = data[feature].quantile(0.25)\n",
        "        Q3 = data[feature].quantile(0.75)\n",
        "        IQR = Q3 - Q1\n",
        "        lower_bound = Q1 - (1.5 * IQR)\n",
        "        upper_bound = Q3 + (1.5 * IQR)\n",
        "        data[feature] = np.where((data[feature] < lower_bound) | (data[feature] > upper_bound),\n",
        "                                 data[feature].mean(), data[feature])\n",
        "\n",
        "    #Normalize numeric features\n",
        "    scaler = StandardScaler()\n",
        "    scaled_data = scaler.fit_transform(data[numeric_features])\n",
        "    data[numeric_features] = scaler.transform(data[numeric_features])\n",
        "\n",
        "    #Handle missing values in categorical features\n",
        "    data[categorical_features] = data[categorical_features].fillna(data[categorical_features].mode().iloc[0])\n",
        "\n",
        "    return data"
      ]
    },
    {
      "cell_type": "code",
      "source": [
        "data = pd.read_csv('/content/drive/MyDrive/DATASETS/data.csv')\n",
        "print('Original Data: ')\n",
        "print(data.head())"
      ],
      "metadata": {
        "colab": {
          "base_uri": "https://localhost:8080/"
        },
        "id": "fAwVgqlfzY10",
        "outputId": "1315ab7b-ae20-435b-9057-73c991942746"
      },
      "execution_count": 3,
      "outputs": [
        {
          "output_type": "stream",
          "name": "stdout",
          "text": [
            "Original Data: \n",
            "   NumericFeature1  NumericFeature2 CategoricalFeature\n",
            "0              1.0                7                  A\n",
            "1              2.0                8                  B\n",
            "2              NaN                9                NaN\n",
            "3              4.0               10                  A\n",
            "4              5.0               11                  B\n"
          ]
        }
      ]
    },
    {
      "cell_type": "code",
      "source": [
        "#Perform data preprocessing\n",
        "cleaned_data = data_preprocessing(data)\n",
        "\n",
        "print(\"Preprocessed Data:\")\n",
        "print(cleaned_data)"
      ],
      "metadata": {
        "colab": {
          "base_uri": "https://localhost:8080/"
        },
        "id": "2YXjjVI00n80",
        "outputId": "452c266f-01fc-465e-aa2f-06f6db62bc06"
      },
      "execution_count": 5,
      "outputs": [
        {
          "output_type": "stream",
          "name": "stdout",
          "text": [
            "Preprocessed Data:\n",
            "   NumericFeature1  NumericFeature2 CategoricalFeature\n",
            "0        -1.535624        -1.099370                  A\n",
            "1        -0.944999        -0.749128                  B\n",
            "2         0.000000        -0.398886                  A\n",
            "3         0.236250        -0.048645                  A\n",
            "4         0.826874         0.301597                  B\n",
            "5         1.417499         1.994431                  C\n"
          ]
        }
      ]
    },
    {
      "cell_type": "code",
      "source": [],
      "metadata": {
        "id": "q1XFCjFA0z1v"
      },
      "execution_count": null,
      "outputs": []
    }
  ]
}